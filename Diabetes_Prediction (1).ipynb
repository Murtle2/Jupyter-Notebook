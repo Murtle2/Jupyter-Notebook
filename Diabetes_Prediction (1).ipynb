{
 "cells": [
  {
   "cell_type": "code",
   "execution_count": 2,
   "metadata": {
    "tags": []
   },
   "outputs": [
    {
     "ename": "SyntaxError",
     "evalue": "invalid syntax (3249065790.py, line 2)",
     "output_type": "error",
     "traceback": [
      "\u001b[0;36m  Cell \u001b[0;32mIn[2], line 2\u001b[0;36m\u001b[0m\n\u001b[0;31m    This data set is from Kaggle. https://www.kaggle.com/datasets/iammustafatz/diabetes-prediction-dataset\u001b[0m\n\u001b[0m         ^\u001b[0m\n\u001b[0;31mSyntaxError\u001b[0m\u001b[0;31m:\u001b[0m invalid syntax\n"
     ]
    }
   ],
   "source": [
    "## Data Set #10: Diabetes Prediction\n",
    "This data set is from Kaggle. https://www.kaggle.com/datasets/iammustafatz/diabetes-prediction-dataset\n",
    "\n",
    "**Description:**\n",
    "\n",
    "\"The Diabetes prediction dataset is a collection of medical and demographic data from patients, along with their diabetes status (positive or negative). The data includes features such as age, gender, body mass index (BMI), hypertension, heart disease, smoking history, HbA1c level, and blood glucose level. This dataset can be used to build machine learning models to predict diabetes in patients based on their medical history and demographic information. This can be useful for healthcare professionals in identifying patients who may be at risk of developing diabetes and in developing personalized treatment plans. Additionally, the dataset can be used by researchers to explore the relationships between various medical and demographic factors and the likelihood of developing diabetes.\"\n",
    "\n",
    "### Data Cleaning Issues:\n",
    "\n",
    "While there are no missing values, the gender and smoking history columns needs to be converted to a numbers to model.\n",
    "\n",
    "### Possible Hypotheses:\n",
    "This data set is a good candidate for k-mean clustering to predict the whether a patient has diabetes. One could also explore correlation between fields, look at differences by gender, smoking history, etc.\n",
    "\n"
   ]
  },
  {
   "cell_type": "code",
   "execution_count": 3,
   "metadata": {
    "tags": []
   },
   "outputs": [],
   "source": [
    "import numpy as np\n",
    "import pandas as pd\n",
    "from datascience import *\n",
    "import matplotlib.pyplot as plt\n",
    "%matplotlib inline"
   ]
  },
  {
   "cell_type": "code",
   "execution_count": 4,
   "metadata": {
    "tags": []
   },
   "outputs": [
    {
     "data": {
      "text/html": [
       "<table border=\"1\" class=\"dataframe\">\n",
       "    <thead>\n",
       "        <tr>\n",
       "            <th>gender</th> <th>age</th> <th>hypertension</th> <th>heart_disease</th> <th>smoking_history</th> <th>bmi</th> <th>HbA1c_level</th> <th>blood_glucose_level</th> <th>diabetes</th>\n",
       "        </tr>\n",
       "    </thead>\n",
       "    <tbody>\n",
       "        <tr>\n",
       "            <td>Female</td> <td>80  </td> <td>0           </td> <td>1            </td> <td>never          </td> <td>25.19</td> <td>6.6        </td> <td>140                </td> <td>0       </td>\n",
       "        </tr>\n",
       "        <tr>\n",
       "            <td>Female</td> <td>54  </td> <td>0           </td> <td>0            </td> <td>No Info        </td> <td>27.32</td> <td>6.6        </td> <td>80                 </td> <td>0       </td>\n",
       "        </tr>\n",
       "        <tr>\n",
       "            <td>Male  </td> <td>28  </td> <td>0           </td> <td>0            </td> <td>never          </td> <td>27.32</td> <td>5.7        </td> <td>158                </td> <td>0       </td>\n",
       "        </tr>\n",
       "    </tbody>\n",
       "</table>\n",
       "<p>... (99997 rows omitted)</p>"
      ],
      "text/plain": [
       "<IPython.core.display.HTML object>"
      ]
     },
     "metadata": {},
     "output_type": "display_data"
    }
   ],
   "source": [
    "url = 'data/diabetes_prediction_dataset.csv'\n",
    "diabetes = Table.read_table(url)\n",
    "diabetes.show(3)"
   ]
  },
  {
   "cell_type": "code",
   "execution_count": 5,
   "metadata": {
    "tags": []
   },
   "outputs": [
    {
     "data": {
      "text/html": [
       "<table border=\"1\" class=\"dataframe\">\n",
       "    <thead>\n",
       "        <tr>\n",
       "            <th>statistic</th> <th>gender</th> <th>age</th> <th>hypertension</th> <th>heart_disease</th> <th>smoking_history</th> <th>bmi</th> <th>HbA1c_level</th> <th>blood_glucose_level</th> <th>diabetes</th>\n",
       "        </tr>\n",
       "    </thead>\n",
       "    <tbody>\n",
       "        <tr>\n",
       "            <td>min      </td> <td>Female</td> <td>0.08       </td> <td>0           </td> <td>0            </td> <td>No Info        </td> <td>10.01      </td> <td>3.5        </td> <td>80                 </td> <td>0       </td>\n",
       "        </tr>\n",
       "        <tr>\n",
       "            <td>max      </td> <td>Other </td> <td>80         </td> <td>1           </td> <td>1            </td> <td>not current    </td> <td>95.69      </td> <td>9          </td> <td>300                </td> <td>1       </td>\n",
       "        </tr>\n",
       "        <tr>\n",
       "            <td>median   </td> <td>      </td> <td>43         </td> <td>0           </td> <td>0            </td> <td>               </td> <td>27.32      </td> <td>5.8        </td> <td>140                </td> <td>0       </td>\n",
       "        </tr>\n",
       "        <tr>\n",
       "            <td>sum      </td> <td>      </td> <td>4.18859e+06</td> <td>7485        </td> <td>3942         </td> <td>               </td> <td>2.73208e+06</td> <td>552751     </td> <td>1.38058e+07        </td> <td>8500    </td>\n",
       "        </tr>\n",
       "    </tbody>\n",
       "</table>"
      ],
      "text/plain": [
       "statistic | gender | age         | hypertension | heart_disease | smoking_history | bmi         | HbA1c_level | blood_glucose_level | diabetes\n",
       "min       | Female | 0.08        | 0            | 0             | No Info         | 10.01       | 3.5         | 80                  | 0\n",
       "max       | Other  | 80          | 1            | 1             | not current     | 95.69       | 9           | 300                 | 1\n",
       "median    |        | 43          | 0            | 0             |                 | 27.32       | 5.8         | 140                 | 0\n",
       "sum       |        | 4.18859e+06 | 7485         | 3942          |                 | 2.73208e+06 | 552751      | 1.38058e+07         | 8500"
      ]
     },
     "execution_count": 5,
     "metadata": {},
     "output_type": "execute_result"
    }
   ],
   "source": [
    "diabetes.stats()"
   ]
  },
  {
   "cell_type": "code",
   "execution_count": 6,
   "metadata": {
    "tags": []
   },
   "outputs": [
    {
     "data": {
      "text/plain": [
       "array(['No Info', 'current', 'ever', 'former', 'never', 'not current'],\n",
       "      dtype='<U11')"
      ]
     },
     "execution_count": 6,
     "metadata": {},
     "output_type": "execute_result"
    }
   ],
   "source": [
    "np.unique(diabetes['smoking_history'])"
   ]
  },
  {
   "cell_type": "code",
   "execution_count": 7,
   "metadata": {
    "tags": []
   },
   "outputs": [
    {
     "data": {
      "text/html": [
       "<table border=\"1\" class=\"dataframe\">\n",
       "    <thead>\n",
       "        <tr>\n",
       "            <th>gender</th> <th>age</th> <th>hypertension</th> <th>heart_disease</th> <th>smoking_history</th> <th>bmi</th> <th>HbA1c_level</th> <th>blood_glucose_level</th> <th>diabetes</th>\n",
       "        </tr>\n",
       "    </thead>\n",
       "    <tbody>\n",
       "        <tr>\n",
       "            <td>Female</td> <td>80  </td> <td>0           </td> <td>1            </td> <td>never          </td> <td>25.19</td> <td>6.6        </td> <td>140                </td> <td>0       </td>\n",
       "        </tr>\n",
       "        <tr>\n",
       "            <td>Male  </td> <td>76  </td> <td>1           </td> <td>1            </td> <td>current        </td> <td>20.14</td> <td>4.8        </td> <td>155                </td> <td>0       </td>\n",
       "        </tr>\n",
       "        <tr>\n",
       "            <td>Female</td> <td>72  </td> <td>0           </td> <td>1            </td> <td>former         </td> <td>27.94</td> <td>6.5        </td> <td>130                </td> <td>0       </td>\n",
       "        </tr>\n",
       "        <tr>\n",
       "            <td>Male  </td> <td>67  </td> <td>0           </td> <td>1            </td> <td>not current    </td> <td>27.32</td> <td>6.5        </td> <td>200                </td> <td>1       </td>\n",
       "        </tr>\n",
       "        <tr>\n",
       "            <td>Female</td> <td>77  </td> <td>1           </td> <td>1            </td> <td>never          </td> <td>32.02</td> <td>5          </td> <td>159                </td> <td>0       </td>\n",
       "        </tr>\n",
       "        <tr>\n",
       "            <td>Female</td> <td>59  </td> <td>0           </td> <td>1            </td> <td>ever           </td> <td>23.11</td> <td>6.5        </td> <td>200                </td> <td>0       </td>\n",
       "        </tr>\n",
       "        <tr>\n",
       "            <td>Male  </td> <td>68  </td> <td>1           </td> <td>1            </td> <td>current        </td> <td>27.32</td> <td>5          </td> <td>126                </td> <td>0       </td>\n",
       "        </tr>\n",
       "        <tr>\n",
       "            <td>Male  </td> <td>59  </td> <td>0           </td> <td>1            </td> <td>ever           </td> <td>30.85</td> <td>5          </td> <td>126                </td> <td>0       </td>\n",
       "        </tr>\n",
       "        <tr>\n",
       "            <td>Female</td> <td>80  </td> <td>0           </td> <td>1            </td> <td>never          </td> <td>29.59</td> <td>5.8        </td> <td>158                </td> <td>0       </td>\n",
       "        </tr>\n",
       "        <tr>\n",
       "            <td>Male  </td> <td>57  </td> <td>1           </td> <td>1            </td> <td>not current    </td> <td>27.77</td> <td>6.6        </td> <td>160                </td> <td>1       </td>\n",
       "        </tr>\n",
       "    </tbody>\n",
       "</table>\n",
       "<p>... (3932 rows omitted)</p>"
      ],
      "text/plain": [
       "gender | age  | hypertension | heart_disease | smoking_history | bmi   | HbA1c_level | blood_glucose_level | diabetes\n",
       "Female | 80   | 0            | 1             | never           | 25.19 | 6.6         | 140                 | 0\n",
       "Male   | 76   | 1            | 1             | current         | 20.14 | 4.8         | 155                 | 0\n",
       "Female | 72   | 0            | 1             | former          | 27.94 | 6.5         | 130                 | 0\n",
       "Male   | 67   | 0            | 1             | not current     | 27.32 | 6.5         | 200                 | 1\n",
       "Female | 77   | 1            | 1             | never           | 32.02 | 5           | 159                 | 0\n",
       "Female | 59   | 0            | 1             | ever            | 23.11 | 6.5         | 200                 | 0\n",
       "Male   | 68   | 1            | 1             | current         | 27.32 | 5           | 126                 | 0\n",
       "Male   | 59   | 0            | 1             | ever            | 30.85 | 5           | 126                 | 0\n",
       "Female | 80   | 0            | 1             | never           | 29.59 | 5.8         | 158                 | 0\n",
       "Male   | 57   | 1            | 1             | not current     | 27.77 | 6.6         | 160                 | 1\n",
       "... (3932 rows omitted)"
      ]
     },
     "execution_count": 7,
     "metadata": {},
     "output_type": "execute_result"
    }
   ],
   "source": [
    "diabetes_hd = diabetes.where(\"heart_disease\", are.equal_to(1))\n",
    "diabetes_hd"
   ]
  },
  {
   "cell_type": "code",
   "execution_count": 8,
   "metadata": {
    "tags": []
   },
   "outputs": [
    {
     "data": {
      "text/html": [
       "<table border=\"1\" class=\"dataframe\">\n",
       "    <thead>\n",
       "        <tr>\n",
       "            <th>gender</th> <th>age</th> <th>hypertension</th> <th>heart_disease</th> <th>smoking_history</th> <th>bmi</th> <th>HbA1c_level</th> <th>blood_glucose_level</th> <th>diabetes</th>\n",
       "        </tr>\n",
       "    </thead>\n",
       "    <tbody>\n",
       "        <tr>\n",
       "            <td>Male  </td> <td>76  </td> <td>1           </td> <td>1            </td> <td>current        </td> <td>20.14</td> <td>4.8        </td> <td>155                </td> <td>0       </td>\n",
       "        </tr>\n",
       "        <tr>\n",
       "            <td>Male  </td> <td>67  </td> <td>0           </td> <td>1            </td> <td>not current    </td> <td>27.32</td> <td>6.5        </td> <td>200                </td> <td>1       </td>\n",
       "        </tr>\n",
       "        <tr>\n",
       "            <td>Female</td> <td>77  </td> <td>1           </td> <td>1            </td> <td>never          </td> <td>32.02</td> <td>5          </td> <td>159                </td> <td>0       </td>\n",
       "        </tr>\n",
       "        <tr>\n",
       "            <td>Female</td> <td>59  </td> <td>0           </td> <td>1            </td> <td>ever           </td> <td>23.11</td> <td>6.5        </td> <td>200                </td> <td>0       </td>\n",
       "        </tr>\n",
       "        <tr>\n",
       "            <td>Female</td> <td>80  </td> <td>0           </td> <td>1            </td> <td>never          </td> <td>29.59</td> <td>5.8        </td> <td>158                </td> <td>0       </td>\n",
       "        </tr>\n",
       "        <tr>\n",
       "            <td>Male  </td> <td>57  </td> <td>1           </td> <td>1            </td> <td>not current    </td> <td>27.77</td> <td>6.6        </td> <td>160                </td> <td>1       </td>\n",
       "        </tr>\n",
       "        <tr>\n",
       "            <td>Female</td> <td>80  </td> <td>0           </td> <td>1            </td> <td>former         </td> <td>21.3 </td> <td>5          </td> <td>159                </td> <td>0       </td>\n",
       "        </tr>\n",
       "        <tr>\n",
       "            <td>Male  </td> <td>80  </td> <td>0           </td> <td>1            </td> <td>former         </td> <td>24.36</td> <td>7.5        </td> <td>280                </td> <td>1       </td>\n",
       "        </tr>\n",
       "        <tr>\n",
       "            <td>Female</td> <td>69  </td> <td>0           </td> <td>1            </td> <td>never          </td> <td>32.27</td> <td>6.2        </td> <td>160                </td> <td>0       </td>\n",
       "        </tr>\n",
       "        <tr>\n",
       "            <td>Male  </td> <td>75  </td> <td>0           </td> <td>1            </td> <td>not current    </td> <td>28.12</td> <td>7.5        </td> <td>160                </td> <td>1       </td>\n",
       "        </tr>\n",
       "    </tbody>\n",
       "</table>\n",
       "<p>... (1890 rows omitted)</p>"
      ],
      "text/plain": [
       "gender | age  | hypertension | heart_disease | smoking_history | bmi   | HbA1c_level | blood_glucose_level | diabetes\n",
       "Male   | 76   | 1            | 1             | current         | 20.14 | 4.8         | 155                 | 0\n",
       "Male   | 67   | 0            | 1             | not current     | 27.32 | 6.5         | 200                 | 1\n",
       "Female | 77   | 1            | 1             | never           | 32.02 | 5           | 159                 | 0\n",
       "Female | 59   | 0            | 1             | ever            | 23.11 | 6.5         | 200                 | 0\n",
       "Female | 80   | 0            | 1             | never           | 29.59 | 5.8         | 158                 | 0\n",
       "Male   | 57   | 1            | 1             | not current     | 27.77 | 6.6         | 160                 | 1\n",
       "Female | 80   | 0            | 1             | former          | 21.3  | 5           | 159                 | 0\n",
       "Male   | 80   | 0            | 1             | former          | 24.36 | 7.5         | 280                 | 1\n",
       "Female | 69   | 0            | 1             | never           | 32.27 | 6.2         | 160                 | 0\n",
       "Male   | 75   | 0            | 1             | not current     | 28.12 | 7.5         | 160                 | 1\n",
       "... (1890 rows omitted)"
      ]
     },
     "execution_count": 8,
     "metadata": {},
     "output_type": "execute_result"
    }
   ],
   "source": [
    "diabetes_hdbgl = diabetes_hd.where(\"blood_glucose_level\", are.above(150))\n",
    "diabetes_hdbgl"
   ]
  },
  {
   "cell_type": "code",
   "execution_count": 9,
   "metadata": {
    "tags": []
   },
   "outputs": [
    {
     "data": {
      "text/html": [
       "<table border=\"1\" class=\"dataframe\">\n",
       "    <thead>\n",
       "        <tr>\n",
       "            <th>gender</th> <th>age</th> <th>hypertension</th> <th>heart_disease</th> <th>smoking_history</th> <th>bmi</th> <th>HbA1c_level</th> <th>blood_glucose_level</th> <th>diabetes</th>\n",
       "        </tr>\n",
       "    </thead>\n",
       "    <tbody>\n",
       "        <tr>\n",
       "            <td>Male  </td> <td>76  </td> <td>1           </td> <td>1            </td> <td>current        </td> <td>20.14</td> <td>4.8        </td> <td>155                </td> <td>0       </td>\n",
       "        </tr>\n",
       "        <tr>\n",
       "            <td>Male  </td> <td>67  </td> <td>0           </td> <td>1            </td> <td>not current    </td> <td>27.32</td> <td>6.5        </td> <td>200                </td> <td>1       </td>\n",
       "        </tr>\n",
       "        <tr>\n",
       "            <td>Female</td> <td>77  </td> <td>1           </td> <td>1            </td> <td>never          </td> <td>32.02</td> <td>5          </td> <td>159                </td> <td>0       </td>\n",
       "        </tr>\n",
       "        <tr>\n",
       "            <td>Female</td> <td>59  </td> <td>0           </td> <td>1            </td> <td>ever           </td> <td>23.11</td> <td>6.5        </td> <td>200                </td> <td>0       </td>\n",
       "        </tr>\n",
       "        <tr>\n",
       "            <td>Female</td> <td>80  </td> <td>0           </td> <td>1            </td> <td>never          </td> <td>29.59</td> <td>5.8        </td> <td>158                </td> <td>0       </td>\n",
       "        </tr>\n",
       "        <tr>\n",
       "            <td>Male  </td> <td>57  </td> <td>1           </td> <td>1            </td> <td>not current    </td> <td>27.77</td> <td>6.6        </td> <td>160                </td> <td>1       </td>\n",
       "        </tr>\n",
       "        <tr>\n",
       "            <td>Female</td> <td>80  </td> <td>0           </td> <td>1            </td> <td>former         </td> <td>21.3 </td> <td>5          </td> <td>159                </td> <td>0       </td>\n",
       "        </tr>\n",
       "        <tr>\n",
       "            <td>Male  </td> <td>80  </td> <td>0           </td> <td>1            </td> <td>former         </td> <td>24.36</td> <td>7.5        </td> <td>280                </td> <td>1       </td>\n",
       "        </tr>\n",
       "        <tr>\n",
       "            <td>Female</td> <td>69  </td> <td>0           </td> <td>1            </td> <td>never          </td> <td>32.27</td> <td>6.2        </td> <td>160                </td> <td>0       </td>\n",
       "        </tr>\n",
       "        <tr>\n",
       "            <td>Male  </td> <td>75  </td> <td>0           </td> <td>1            </td> <td>not current    </td> <td>28.12</td> <td>7.5        </td> <td>160                </td> <td>1       </td>\n",
       "        </tr>\n",
       "    </tbody>\n",
       "</table>\n",
       "<p>... (1890 rows omitted)</p>"
      ],
      "text/plain": [
       "gender | age  | hypertension | heart_disease | smoking_history | bmi   | HbA1c_level | blood_glucose_level | diabetes\n",
       "Male   | 76   | 1            | 1             | current         | 20.14 | 4.8         | 155                 | 0\n",
       "Male   | 67   | 0            | 1             | not current     | 27.32 | 6.5         | 200                 | 1\n",
       "Female | 77   | 1            | 1             | never           | 32.02 | 5           | 159                 | 0\n",
       "Female | 59   | 0            | 1             | ever            | 23.11 | 6.5         | 200                 | 0\n",
       "Female | 80   | 0            | 1             | never           | 29.59 | 5.8         | 158                 | 0\n",
       "Male   | 57   | 1            | 1             | not current     | 27.77 | 6.6         | 160                 | 1\n",
       "Female | 80   | 0            | 1             | former          | 21.3  | 5           | 159                 | 0\n",
       "Male   | 80   | 0            | 1             | former          | 24.36 | 7.5         | 280                 | 1\n",
       "Female | 69   | 0            | 1             | never           | 32.27 | 6.2         | 160                 | 0\n",
       "Male   | 75   | 0            | 1             | not current     | 28.12 | 7.5         | 160                 | 1\n",
       "... (1890 rows omitted)"
      ]
     },
     "execution_count": 9,
     "metadata": {},
     "output_type": "execute_result"
    }
   ],
   "source": [
    "diabtetes_hdbgl = diabetes_hd.where(\"blood_glucose_level\", are.above(140))\n",
    "diabetes_hdbgl"
   ]
  },
  {
   "cell_type": "code",
   "execution_count": 10,
   "metadata": {},
   "outputs": [
    {
     "data": {
      "text/html": [
       "<table border=\"1\" class=\"dataframe\">\n",
       "    <thead>\n",
       "        <tr>\n",
       "            <th>gender</th> <th>age</th> <th>hypertension</th> <th>heart_disease</th> <th>smoking_history</th> <th>bmi</th> <th>HbA1c_level</th> <th>blood_glucose_level</th> <th>diabetes</th>\n",
       "        </tr>\n",
       "    </thead>\n",
       "    <tbody>\n",
       "        <tr>\n",
       "            <td>Male  </td> <td>67  </td> <td>0           </td> <td>1            </td> <td>not current    </td> <td>27.32</td> <td>6.5        </td> <td>200                </td> <td>1       </td>\n",
       "        </tr>\n",
       "        <tr>\n",
       "            <td>Male  </td> <td>57  </td> <td>1           </td> <td>1            </td> <td>not current    </td> <td>27.77</td> <td>6.6        </td> <td>160                </td> <td>1       </td>\n",
       "        </tr>\n",
       "        <tr>\n",
       "            <td>Male  </td> <td>80  </td> <td>0           </td> <td>1            </td> <td>former         </td> <td>24.36</td> <td>7.5        </td> <td>280                </td> <td>1       </td>\n",
       "        </tr>\n",
       "        <tr>\n",
       "            <td>Male  </td> <td>75  </td> <td>0           </td> <td>1            </td> <td>not current    </td> <td>28.12</td> <td>7.5        </td> <td>160                </td> <td>1       </td>\n",
       "        </tr>\n",
       "        <tr>\n",
       "            <td>Female</td> <td>62  </td> <td>1           </td> <td>1            </td> <td>never          </td> <td>43.16</td> <td>8.8        </td> <td>280                </td> <td>1       </td>\n",
       "        </tr>\n",
       "        <tr>\n",
       "            <td>Female</td> <td>76  </td> <td>0           </td> <td>1            </td> <td>former         </td> <td>25.68</td> <td>9          </td> <td>260                </td> <td>1       </td>\n",
       "        </tr>\n",
       "        <tr>\n",
       "            <td>Female</td> <td>67  </td> <td>1           </td> <td>1            </td> <td>current        </td> <td>28.52</td> <td>6.5        </td> <td>200                </td> <td>1       </td>\n",
       "        </tr>\n",
       "        <tr>\n",
       "            <td>Male  </td> <td>67  </td> <td>0           </td> <td>1            </td> <td>No Info        </td> <td>35.48</td> <td>6.8        </td> <td>200                </td> <td>1       </td>\n",
       "        </tr>\n",
       "        <tr>\n",
       "            <td>Female</td> <td>80  </td> <td>0           </td> <td>1            </td> <td>never          </td> <td>26   </td> <td>7.5        </td> <td>200                </td> <td>1       </td>\n",
       "        </tr>\n",
       "        <tr>\n",
       "            <td>Female</td> <td>78  </td> <td>0           </td> <td>1            </td> <td>never          </td> <td>27.32</td> <td>6.5        </td> <td>300                </td> <td>1       </td>\n",
       "        </tr>\n",
       "    </tbody>\n",
       "</table>\n",
       "<p>... (874 rows omitted)</p>"
      ],
      "text/plain": [
       "gender | age  | hypertension | heart_disease | smoking_history | bmi   | HbA1c_level | blood_glucose_level | diabetes\n",
       "Male   | 67   | 0            | 1             | not current     | 27.32 | 6.5         | 200                 | 1\n",
       "Male   | 57   | 1            | 1             | not current     | 27.77 | 6.6         | 160                 | 1\n",
       "Male   | 80   | 0            | 1             | former          | 24.36 | 7.5         | 280                 | 1\n",
       "Male   | 75   | 0            | 1             | not current     | 28.12 | 7.5         | 160                 | 1\n",
       "Female | 62   | 1            | 1             | never           | 43.16 | 8.8         | 280                 | 1\n",
       "Female | 76   | 0            | 1             | former          | 25.68 | 9           | 260                 | 1\n",
       "Female | 67   | 1            | 1             | current         | 28.52 | 6.5         | 200                 | 1\n",
       "Male   | 67   | 0            | 1             | No Info         | 35.48 | 6.8         | 200                 | 1\n",
       "Female | 80   | 0            | 1             | never           | 26    | 7.5         | 200                 | 1\n",
       "Female | 78   | 0            | 1             | never           | 27.32 | 6.5         | 300                 | 1\n",
       "... (874 rows omitted)"
      ]
     },
     "execution_count": 10,
     "metadata": {},
     "output_type": "execute_result"
    }
   ],
   "source": [
    "diabetes_positive = diabetes_hdbgl.where(\"diabetes\", are.equal_to(1))\n",
    "diabetes_positive"
   ]
  },
  {
   "cell_type": "code",
   "execution_count": 11,
   "metadata": {
    "tags": []
   },
   "outputs": [
    {
     "data": {
      "text/html": [
       "<table border=\"1\" class=\"dataframe\">\n",
       "    <thead>\n",
       "        <tr>\n",
       "            <th>gender</th> <th>age</th> <th>hypertension</th> <th>heart_disease</th> <th>smoking_history</th> <th>bmi</th> <th>HbA1c_level</th> <th>blood_glucose_level</th> <th>diabetes</th>\n",
       "        </tr>\n",
       "    </thead>\n",
       "    <tbody>\n",
       "        <tr>\n",
       "            <td>Male  </td> <td>67  </td> <td>0           </td> <td>1            </td> <td>not current    </td> <td>27.32</td> <td>6.5        </td> <td>200                </td> <td>1       </td>\n",
       "        </tr>\n",
       "        <tr>\n",
       "            <td>Male  </td> <td>57  </td> <td>1           </td> <td>1            </td> <td>not current    </td> <td>27.77</td> <td>6.6        </td> <td>160                </td> <td>1       </td>\n",
       "        </tr>\n",
       "        <tr>\n",
       "            <td>Male  </td> <td>80  </td> <td>0           </td> <td>1            </td> <td>former         </td> <td>24.36</td> <td>7.5        </td> <td>280                </td> <td>1       </td>\n",
       "        </tr>\n",
       "        <tr>\n",
       "            <td>Male  </td> <td>75  </td> <td>0           </td> <td>1            </td> <td>not current    </td> <td>28.12</td> <td>7.5        </td> <td>160                </td> <td>1       </td>\n",
       "        </tr>\n",
       "        <tr>\n",
       "            <td>Male  </td> <td>69  </td> <td>0           </td> <td>1            </td> <td>former         </td> <td>24.1 </td> <td>6.8        </td> <td>126                </td> <td>1       </td>\n",
       "        </tr>\n",
       "        <tr>\n",
       "            <td>Female</td> <td>59  </td> <td>0           </td> <td>1            </td> <td>never          </td> <td>60.26</td> <td>8.8        </td> <td>145                </td> <td>1       </td>\n",
       "        </tr>\n",
       "        <tr>\n",
       "            <td>Male  </td> <td>80  </td> <td>0           </td> <td>1            </td> <td>former         </td> <td>32.95</td> <td>6          </td> <td>130                </td> <td>1       </td>\n",
       "        </tr>\n",
       "        <tr>\n",
       "            <td>Female</td> <td>62  </td> <td>1           </td> <td>1            </td> <td>former         </td> <td>44.23</td> <td>8.2        </td> <td>145                </td> <td>1       </td>\n",
       "        </tr>\n",
       "        <tr>\n",
       "            <td>Female</td> <td>62  </td> <td>1           </td> <td>1            </td> <td>never          </td> <td>43.16</td> <td>8.8        </td> <td>280                </td> <td>1       </td>\n",
       "        </tr>\n",
       "        <tr>\n",
       "            <td>Female</td> <td>76  </td> <td>0           </td> <td>1            </td> <td>former         </td> <td>25.68</td> <td>9          </td> <td>260                </td> <td>1       </td>\n",
       "        </tr>\n",
       "    </tbody>\n",
       "</table>\n",
       "<p>... (1257 rows omitted)</p>"
      ],
      "text/plain": [
       "gender | age  | hypertension | heart_disease | smoking_history | bmi   | HbA1c_level | blood_glucose_level | diabetes\n",
       "Male   | 67   | 0            | 1             | not current     | 27.32 | 6.5         | 200                 | 1\n",
       "Male   | 57   | 1            | 1             | not current     | 27.77 | 6.6         | 160                 | 1\n",
       "Male   | 80   | 0            | 1             | former          | 24.36 | 7.5         | 280                 | 1\n",
       "Male   | 75   | 0            | 1             | not current     | 28.12 | 7.5         | 160                 | 1\n",
       "Male   | 69   | 0            | 1             | former          | 24.1  | 6.8         | 126                 | 1\n",
       "Female | 59   | 0            | 1             | never           | 60.26 | 8.8         | 145                 | 1\n",
       "Male   | 80   | 0            | 1             | former          | 32.95 | 6           | 130                 | 1\n",
       "Female | 62   | 1            | 1             | former          | 44.23 | 8.2         | 145                 | 1\n",
       "Female | 62   | 1            | 1             | never           | 43.16 | 8.8         | 280                 | 1\n",
       "Female | 76   | 0            | 1             | former          | 25.68 | 9           | 260                 | 1\n",
       "... (1257 rows omitted)"
      ]
     },
     "execution_count": 11,
     "metadata": {},
     "output_type": "execute_result"
    }
   ],
   "source": [
    "diabetes_positive_hd = diabetes_hd.where(\"diabetes\", are.equal_to(1))\n",
    "diabetes_positive_hd"
   ]
  },
  {
   "cell_type": "code",
   "execution_count": 12,
   "metadata": {
    "tags": []
   },
   "outputs": [
    {
     "name": "stdout",
     "output_type": "stream",
     "text": [
      "[200 160 280 ..., 300 140 300]\n"
     ]
    }
   ],
   "source": [
    "print(diabetes_positive_hd.column(7))"
   ]
  },
  {
   "cell_type": "code",
   "execution_count": 13,
   "metadata": {
    "tags": []
   },
   "outputs": [
    {
     "data": {
      "text/html": [
       "<table border=\"1\" class=\"dataframe\">\n",
       "    <thead>\n",
       "        <tr>\n",
       "            <th>bmi</th>\n",
       "        </tr>\n",
       "    </thead>\n",
       "    <tbody>\n",
       "        <tr>\n",
       "            <td>27.32</td>\n",
       "        </tr>\n",
       "        <tr>\n",
       "            <td>27.77</td>\n",
       "        </tr>\n",
       "        <tr>\n",
       "            <td>24.36</td>\n",
       "        </tr>\n",
       "        <tr>\n",
       "            <td>28.12</td>\n",
       "        </tr>\n",
       "        <tr>\n",
       "            <td>24.1 </td>\n",
       "        </tr>\n",
       "        <tr>\n",
       "            <td>60.26</td>\n",
       "        </tr>\n",
       "        <tr>\n",
       "            <td>32.95</td>\n",
       "        </tr>\n",
       "        <tr>\n",
       "            <td>44.23</td>\n",
       "        </tr>\n",
       "        <tr>\n",
       "            <td>43.16</td>\n",
       "        </tr>\n",
       "        <tr>\n",
       "            <td>25.68</td>\n",
       "        </tr>\n",
       "    </tbody>\n",
       "</table>\n",
       "<p>... (1257 rows omitted)</p>"
      ],
      "text/plain": [
       "bmi\n",
       "27.32\n",
       "27.77\n",
       "24.36\n",
       "28.12\n",
       "24.1\n",
       "60.26\n",
       "32.95\n",
       "44.23\n",
       "43.16\n",
       "25.68\n",
       "... (1257 rows omitted)"
      ]
     },
     "execution_count": 13,
     "metadata": {},
     "output_type": "execute_result"
    }
   ],
   "source": [
    "diabetes_positive_hd.select(\"bmi\")"
   ]
  },
  {
   "cell_type": "code",
   "execution_count": 14,
   "metadata": {
    "tags": []
   },
   "outputs": [
    {
     "data": {
      "text/html": [
       "<table border=\"1\" class=\"dataframe\">\n",
       "    <thead>\n",
       "        <tr>\n",
       "            <th>gender</th> <th>age</th> <th>hypertension</th> <th>heart_disease</th> <th>smoking_history</th> <th>bmi</th> <th>HbA1c_level</th> <th>blood_glucose_level</th> <th>diabetes</th>\n",
       "        </tr>\n",
       "    </thead>\n",
       "    <tbody>\n",
       "        <tr>\n",
       "            <td>Female</td> <td>54  </td> <td>0           </td> <td>0            </td> <td>No Info        </td> <td>27.32</td> <td>6.6        </td> <td>80                 </td> <td>0       </td>\n",
       "        </tr>\n",
       "        <tr>\n",
       "            <td>Male  </td> <td>28  </td> <td>0           </td> <td>0            </td> <td>never          </td> <td>27.32</td> <td>5.7        </td> <td>158                </td> <td>0       </td>\n",
       "        </tr>\n",
       "        <tr>\n",
       "            <td>Female</td> <td>36  </td> <td>0           </td> <td>0            </td> <td>current        </td> <td>23.45</td> <td>5          </td> <td>155                </td> <td>0       </td>\n",
       "        </tr>\n",
       "        <tr>\n",
       "            <td>Female</td> <td>20  </td> <td>0           </td> <td>0            </td> <td>never          </td> <td>27.32</td> <td>6.6        </td> <td>85                 </td> <td>0       </td>\n",
       "        </tr>\n",
       "        <tr>\n",
       "            <td>Female</td> <td>44  </td> <td>0           </td> <td>0            </td> <td>never          </td> <td>19.31</td> <td>6.5        </td> <td>200                </td> <td>1       </td>\n",
       "        </tr>\n",
       "        <tr>\n",
       "            <td>Female</td> <td>79  </td> <td>0           </td> <td>0            </td> <td>No Info        </td> <td>23.86</td> <td>5.7        </td> <td>85                 </td> <td>0       </td>\n",
       "        </tr>\n",
       "        <tr>\n",
       "            <td>Male  </td> <td>42  </td> <td>0           </td> <td>0            </td> <td>never          </td> <td>33.64</td> <td>4.8        </td> <td>145                </td> <td>0       </td>\n",
       "        </tr>\n",
       "        <tr>\n",
       "            <td>Female</td> <td>32  </td> <td>0           </td> <td>0            </td> <td>never          </td> <td>27.32</td> <td>5          </td> <td>100                </td> <td>0       </td>\n",
       "        </tr>\n",
       "        <tr>\n",
       "            <td>Female</td> <td>53  </td> <td>0           </td> <td>0            </td> <td>never          </td> <td>27.32</td> <td>6.1        </td> <td>85                 </td> <td>0       </td>\n",
       "        </tr>\n",
       "        <tr>\n",
       "            <td>Female</td> <td>54  </td> <td>0           </td> <td>0            </td> <td>former         </td> <td>54.7 </td> <td>6          </td> <td>100                </td> <td>0       </td>\n",
       "        </tr>\n",
       "    </tbody>\n",
       "</table>\n",
       "<p>... (96048 rows omitted)</p>"
      ],
      "text/plain": [
       "gender | age  | hypertension | heart_disease | smoking_history | bmi   | HbA1c_level | blood_glucose_level | diabetes\n",
       "Female | 54   | 0            | 0             | No Info         | 27.32 | 6.6         | 80                  | 0\n",
       "Male   | 28   | 0            | 0             | never           | 27.32 | 5.7         | 158                 | 0\n",
       "Female | 36   | 0            | 0             | current         | 23.45 | 5           | 155                 | 0\n",
       "Female | 20   | 0            | 0             | never           | 27.32 | 6.6         | 85                  | 0\n",
       "Female | 44   | 0            | 0             | never           | 19.31 | 6.5         | 200                 | 1\n",
       "Female | 79   | 0            | 0             | No Info         | 23.86 | 5.7         | 85                  | 0\n",
       "Male   | 42   | 0            | 0             | never           | 33.64 | 4.8         | 145                 | 0\n",
       "Female | 32   | 0            | 0             | never           | 27.32 | 5           | 100                 | 0\n",
       "Female | 53   | 0            | 0             | never           | 27.32 | 6.1         | 85                  | 0\n",
       "Female | 54   | 0            | 0             | former          | 54.7  | 6           | 100                 | 0\n",
       "... (96048 rows omitted)"
      ]
     },
     "execution_count": 14,
     "metadata": {},
     "output_type": "execute_result"
    }
   ],
   "source": [
    "diabetes_hd_neg = diabetes.where(\"heart_disease\", are.equal_to(0))\n",
    "diabetes_hd_neg"
   ]
  },
  {
   "cell_type": "code",
   "execution_count": 15,
   "metadata": {
    "tags": []
   },
   "outputs": [
    {
     "data": {
      "text/plain": [
       "<matplotlib.collections.PathCollection at 0x79800c6cd1e0>"
      ]
     },
     "execution_count": 15,
     "metadata": {},
     "output_type": "execute_result"
    },
    {
     "data": {
      "image/png": "[encoded data removed]",
      "text/plain": [
       "<Figure size 640x480 with 1 Axes>"
      ]
     },
     "metadata": {},
     "output_type": "display_data"
    }
   ],
   "source": [
    "a=diabetes_hd_neg.column(8)\n",
    "b=diabetes_hd_neg.column(7)\n",
    "no_hd_graph=plt.scatter(a, b)\n",
    "no_hd_graph"
   ]
  },
  {
   "cell_type": "code",
   "execution_count": 16,
   "metadata": {
    "tags": []
   },
   "outputs": [
    {
     "data": {
      "text/plain": [
       "<matplotlib.collections.PathCollection at 0x79800c89e8c0>"
      ]
     },
     "execution_count": 16,
     "metadata": {},
     "output_type": "execute_result"
    },
    {
     "data": {
      "image/png": "[encoded data removed]",
      "text/plain": [
       "<Figure size 640x480 with 1 Axes>"
      ]
     },
     "metadata": {},
     "output_type": "display_data"
    }
   ],
   "source": [
    "x=diabetes_hd.column(8)\n",
    "y=diabetes_hd.column(7)\n",
    "plt.scatter(x, y)"
   ]
  },
  {
   "cell_type": "code",
   "execution_count": 17,
   "metadata": {
    "tags": []
   },
   "outputs": [
    {
     "data": {
      "text/html": [
       "<table border=\"1\" class=\"dataframe\">\n",
       "    <thead>\n",
       "        <tr>\n",
       "            <th>gender</th> <th>age</th> <th>hypertension</th> <th>heart_disease</th> <th>smoking_history</th> <th>bmi</th> <th>HbA1c_level</th> <th>blood_glucose_level</th> <th>diabetes</th>\n",
       "        </tr>\n",
       "    </thead>\n",
       "    <tbody>\n",
       "        <tr>\n",
       "            <td>Female</td> <td>54  </td> <td>0           </td> <td>0            </td> <td>No Info        </td> <td>27.32</td> <td>6.6        </td> <td>80                 </td> <td>0       </td>\n",
       "        </tr>\n",
       "        <tr>\n",
       "            <td>Male  </td> <td>28  </td> <td>0           </td> <td>0            </td> <td>never          </td> <td>27.32</td> <td>5.7        </td> <td>158                </td> <td>0       </td>\n",
       "        </tr>\n",
       "        <tr>\n",
       "            <td>Female</td> <td>36  </td> <td>0           </td> <td>0            </td> <td>current        </td> <td>23.45</td> <td>5          </td> <td>155                </td> <td>0       </td>\n",
       "        </tr>\n",
       "        <tr>\n",
       "            <td>Female</td> <td>20  </td> <td>0           </td> <td>0            </td> <td>never          </td> <td>27.32</td> <td>6.6        </td> <td>85                 </td> <td>0       </td>\n",
       "        </tr>\n",
       "        <tr>\n",
       "            <td>Female</td> <td>44  </td> <td>0           </td> <td>0            </td> <td>never          </td> <td>19.31</td> <td>6.5        </td> <td>200                </td> <td>1       </td>\n",
       "        </tr>\n",
       "        <tr>\n",
       "            <td>Female</td> <td>79  </td> <td>0           </td> <td>0            </td> <td>No Info        </td> <td>23.86</td> <td>5.7        </td> <td>85                 </td> <td>0       </td>\n",
       "        </tr>\n",
       "        <tr>\n",
       "            <td>Male  </td> <td>42  </td> <td>0           </td> <td>0            </td> <td>never          </td> <td>33.64</td> <td>4.8        </td> <td>145                </td> <td>0       </td>\n",
       "        </tr>\n",
       "        <tr>\n",
       "            <td>Female</td> <td>32  </td> <td>0           </td> <td>0            </td> <td>never          </td> <td>27.32</td> <td>5          </td> <td>100                </td> <td>0       </td>\n",
       "        </tr>\n",
       "        <tr>\n",
       "            <td>Female</td> <td>53  </td> <td>0           </td> <td>0            </td> <td>never          </td> <td>27.32</td> <td>6.1        </td> <td>85                 </td> <td>0       </td>\n",
       "        </tr>\n",
       "        <tr>\n",
       "            <td>Female</td> <td>54  </td> <td>0           </td> <td>0            </td> <td>former         </td> <td>54.7 </td> <td>6          </td> <td>100                </td> <td>0       </td>\n",
       "        </tr>\n",
       "    </tbody>\n",
       "</table>\n",
       "<p>... (96048 rows omitted)</p>"
      ],
      "text/plain": [
       "gender | age  | hypertension | heart_disease | smoking_history | bmi   | HbA1c_level | blood_glucose_level | diabetes\n",
       "Female | 54   | 0            | 0             | No Info         | 27.32 | 6.6         | 80                  | 0\n",
       "Male   | 28   | 0            | 0             | never           | 27.32 | 5.7         | 158                 | 0\n",
       "Female | 36   | 0            | 0             | current         | 23.45 | 5           | 155                 | 0\n",
       "Female | 20   | 0            | 0             | never           | 27.32 | 6.6         | 85                  | 0\n",
       "Female | 44   | 0            | 0             | never           | 19.31 | 6.5         | 200                 | 1\n",
       "Female | 79   | 0            | 0             | No Info         | 23.86 | 5.7         | 85                  | 0\n",
       "Male   | 42   | 0            | 0             | never           | 33.64 | 4.8         | 145                 | 0\n",
       "Female | 32   | 0            | 0             | never           | 27.32 | 5           | 100                 | 0\n",
       "Female | 53   | 0            | 0             | never           | 27.32 | 6.1         | 85                  | 0\n",
       "Female | 54   | 0            | 0             | former          | 54.7  | 6           | 100                 | 0\n",
       "... (96048 rows omitted)"
      ]
     },
     "execution_count": 17,
     "metadata": {},
     "output_type": "execute_result"
    }
   ],
   "source": [
    "diabetes_hd_neg"
   ]
  },
  {
   "cell_type": "markdown",
   "metadata": {},
   "source": [
    "96,058 people without heart disease in study"
   ]
  },
  {
   "cell_type": "code",
   "execution_count": 18,
   "metadata": {
    "tags": []
   },
   "outputs": [
    {
     "data": {
      "text/html": [
       "<table border=\"1\" class=\"dataframe\">\n",
       "    <thead>\n",
       "        <tr>\n",
       "            <th>gender</th> <th>age</th> <th>hypertension</th> <th>heart_disease</th> <th>smoking_history</th> <th>bmi</th> <th>HbA1c_level</th> <th>blood_glucose_level</th> <th>diabetes</th>\n",
       "        </tr>\n",
       "    </thead>\n",
       "    <tbody>\n",
       "        <tr>\n",
       "            <td>Female</td> <td>44  </td> <td>0           </td> <td>0            </td> <td>never          </td> <td>19.31</td> <td>6.5        </td> <td>200                </td> <td>1       </td>\n",
       "        </tr>\n",
       "        <tr>\n",
       "            <td>Male  </td> <td>50  </td> <td>1           </td> <td>0            </td> <td>current        </td> <td>27.32</td> <td>5.7        </td> <td>260                </td> <td>1       </td>\n",
       "        </tr>\n",
       "        <tr>\n",
       "            <td>Male  </td> <td>73  </td> <td>0           </td> <td>0            </td> <td>former         </td> <td>25.91</td> <td>9          </td> <td>160                </td> <td>1       </td>\n",
       "        </tr>\n",
       "        <tr>\n",
       "            <td>Female</td> <td>53  </td> <td>0           </td> <td>0            </td> <td>former         </td> <td>27.32</td> <td>7          </td> <td>159                </td> <td>1       </td>\n",
       "        </tr>\n",
       "        <tr>\n",
       "            <td>Male  </td> <td>50  </td> <td>0           </td> <td>0            </td> <td>former         </td> <td>37.16</td> <td>9          </td> <td>159                </td> <td>1       </td>\n",
       "        </tr>\n",
       "        <tr>\n",
       "            <td>Female</td> <td>67  </td> <td>0           </td> <td>0            </td> <td>never          </td> <td>63.48</td> <td>8.8        </td> <td>155                </td> <td>1       </td>\n",
       "        </tr>\n",
       "        <tr>\n",
       "            <td>Male  </td> <td>57  </td> <td>0           </td> <td>0            </td> <td>No Info        </td> <td>27.32</td> <td>8.2        </td> <td>126                </td> <td>1       </td>\n",
       "        </tr>\n",
       "        <tr>\n",
       "            <td>Female</td> <td>36  </td> <td>0           </td> <td>0            </td> <td>current        </td> <td>32.27</td> <td>6.2        </td> <td>220                </td> <td>1       </td>\n",
       "        </tr>\n",
       "        <tr>\n",
       "            <td>Female</td> <td>60  </td> <td>0           </td> <td>0            </td> <td>never          </td> <td>27.32</td> <td>7.5        </td> <td>300                </td> <td>1       </td>\n",
       "        </tr>\n",
       "        <tr>\n",
       "            <td>Female</td> <td>67  </td> <td>0           </td> <td>0            </td> <td>never          </td> <td>27.32</td> <td>6.2        </td> <td>159                </td> <td>1       </td>\n",
       "        </tr>\n",
       "    </tbody>\n",
       "</table>\n",
       "<p>... (7223 rows omitted)</p>"
      ],
      "text/plain": [
       "gender | age  | hypertension | heart_disease | smoking_history | bmi   | HbA1c_level | blood_glucose_level | diabetes\n",
       "Female | 44   | 0            | 0             | never           | 19.31 | 6.5         | 200                 | 1\n",
       "Male   | 50   | 1            | 0             | current         | 27.32 | 5.7         | 260                 | 1\n",
       "Male   | 73   | 0            | 0             | former          | 25.91 | 9           | 160                 | 1\n",
       "Female | 53   | 0            | 0             | former          | 27.32 | 7           | 159                 | 1\n",
       "Male   | 50   | 0            | 0             | former          | 37.16 | 9           | 159                 | 1\n",
       "Female | 67   | 0            | 0             | never           | 63.48 | 8.8         | 155                 | 1\n",
       "Male   | 57   | 0            | 0             | No Info         | 27.32 | 8.2         | 126                 | 1\n",
       "Female | 36   | 0            | 0             | current         | 32.27 | 6.2         | 220                 | 1\n",
       "Female | 60   | 0            | 0             | never           | 27.32 | 7.5         | 300                 | 1\n",
       "Female | 67   | 0            | 0             | never           | 27.32 | 6.2         | 159                 | 1\n",
       "... (7223 rows omitted)"
      ]
     },
     "execution_count": 18,
     "metadata": {},
     "output_type": "execute_result"
    }
   ],
   "source": [
    "diabetes_hd_neg.where(\"diabetes\", are.equal_to(1))"
   ]
  },
  {
   "cell_type": "markdown",
   "metadata": {},
   "source": [
    "of 96,058 of people without heart disease, 7,233 have diabetes"
   ]
  },
  {
   "cell_type": "code",
   "execution_count": 19,
   "metadata": {
    "tags": []
   },
   "outputs": [
    {
     "data": {
      "text/html": [
       "<table border=\"1\" class=\"dataframe\">\n",
       "    <thead>\n",
       "        <tr>\n",
       "            <th>gender</th> <th>age</th> <th>hypertension</th> <th>heart_disease</th> <th>smoking_history</th> <th>bmi</th> <th>HbA1c_level</th> <th>blood_glucose_level</th> <th>diabetes</th>\n",
       "        </tr>\n",
       "    </thead>\n",
       "    <tbody>\n",
       "        <tr>\n",
       "            <td>Female</td> <td>54  </td> <td>0           </td> <td>0            </td> <td>No Info        </td> <td>27.32</td> <td>6.6        </td> <td>80                 </td> <td>0       </td>\n",
       "        </tr>\n",
       "        <tr>\n",
       "            <td>Male  </td> <td>28  </td> <td>0           </td> <td>0            </td> <td>never          </td> <td>27.32</td> <td>5.7        </td> <td>158                </td> <td>0       </td>\n",
       "        </tr>\n",
       "        <tr>\n",
       "            <td>Female</td> <td>36  </td> <td>0           </td> <td>0            </td> <td>current        </td> <td>23.45</td> <td>5          </td> <td>155                </td> <td>0       </td>\n",
       "        </tr>\n",
       "        <tr>\n",
       "            <td>Female</td> <td>20  </td> <td>0           </td> <td>0            </td> <td>never          </td> <td>27.32</td> <td>6.6        </td> <td>85                 </td> <td>0       </td>\n",
       "        </tr>\n",
       "        <tr>\n",
       "            <td>Female</td> <td>79  </td> <td>0           </td> <td>0            </td> <td>No Info        </td> <td>23.86</td> <td>5.7        </td> <td>85                 </td> <td>0       </td>\n",
       "        </tr>\n",
       "        <tr>\n",
       "            <td>Male  </td> <td>42  </td> <td>0           </td> <td>0            </td> <td>never          </td> <td>33.64</td> <td>4.8        </td> <td>145                </td> <td>0       </td>\n",
       "        </tr>\n",
       "        <tr>\n",
       "            <td>Female</td> <td>32  </td> <td>0           </td> <td>0            </td> <td>never          </td> <td>27.32</td> <td>5          </td> <td>100                </td> <td>0       </td>\n",
       "        </tr>\n",
       "        <tr>\n",
       "            <td>Female</td> <td>53  </td> <td>0           </td> <td>0            </td> <td>never          </td> <td>27.32</td> <td>6.1        </td> <td>85                 </td> <td>0       </td>\n",
       "        </tr>\n",
       "        <tr>\n",
       "            <td>Female</td> <td>54  </td> <td>0           </td> <td>0            </td> <td>former         </td> <td>54.7 </td> <td>6          </td> <td>100                </td> <td>0       </td>\n",
       "        </tr>\n",
       "        <tr>\n",
       "            <td>Female</td> <td>78  </td> <td>0           </td> <td>0            </td> <td>former         </td> <td>36.05</td> <td>5          </td> <td>130                </td> <td>0       </td>\n",
       "        </tr>\n",
       "    </tbody>\n",
       "</table>\n",
       "<p>... (88815 rows omitted)</p>"
      ],
      "text/plain": [
       "gender | age  | hypertension | heart_disease | smoking_history | bmi   | HbA1c_level | blood_glucose_level | diabetes\n",
       "Female | 54   | 0            | 0             | No Info         | 27.32 | 6.6         | 80                  | 0\n",
       "Male   | 28   | 0            | 0             | never           | 27.32 | 5.7         | 158                 | 0\n",
       "Female | 36   | 0            | 0             | current         | 23.45 | 5           | 155                 | 0\n",
       "Female | 20   | 0            | 0             | never           | 27.32 | 6.6         | 85                  | 0\n",
       "Female | 79   | 0            | 0             | No Info         | 23.86 | 5.7         | 85                  | 0\n",
       "Male   | 42   | 0            | 0             | never           | 33.64 | 4.8         | 145                 | 0\n",
       "Female | 32   | 0            | 0             | never           | 27.32 | 5           | 100                 | 0\n",
       "Female | 53   | 0            | 0             | never           | 27.32 | 6.1         | 85                  | 0\n",
       "Female | 54   | 0            | 0             | former          | 54.7  | 6           | 100                 | 0\n",
       "Female | 78   | 0            | 0             | former          | 36.05 | 5           | 130                 | 0\n",
       "... (88815 rows omitted)"
      ]
     },
     "execution_count": 19,
     "metadata": {},
     "output_type": "execute_result"
    }
   ],
   "source": [
    "diabetes_hd_neg.where(\"diabetes\", are.equal_to(0))"
   ]
  },
  {
   "cell_type": "markdown",
   "metadata": {},
   "source": [
    "of 96,058 people without heart disease, 88,825 do not have diabetes"
   ]
  },
  {
   "cell_type": "markdown",
   "metadata": {},
   "source": [
    "92.47% of people without heart disease do not have diabetes, and 7.53% of people without heart disease do have diabetes"
   ]
  },
  {
   "cell_type": "code",
   "execution_count": 20,
   "metadata": {
    "tags": []
   },
   "outputs": [
    {
     "data": {
      "text/html": [
       "<table border=\"1\" class=\"dataframe\">\n",
       "    <thead>\n",
       "        <tr>\n",
       "            <th>gender</th> <th>age</th> <th>hypertension</th> <th>heart_disease</th> <th>smoking_history</th> <th>bmi</th> <th>HbA1c_level</th> <th>blood_glucose_level</th> <th>diabetes</th>\n",
       "        </tr>\n",
       "    </thead>\n",
       "    <tbody>\n",
       "        <tr>\n",
       "            <td>Female</td> <td>80  </td> <td>0           </td> <td>1            </td> <td>never          </td> <td>25.19</td> <td>6.6        </td> <td>140                </td> <td>0       </td>\n",
       "        </tr>\n",
       "        <tr>\n",
       "            <td>Male  </td> <td>76  </td> <td>1           </td> <td>1            </td> <td>current        </td> <td>20.14</td> <td>4.8        </td> <td>155                </td> <td>0       </td>\n",
       "        </tr>\n",
       "        <tr>\n",
       "            <td>Female</td> <td>72  </td> <td>0           </td> <td>1            </td> <td>former         </td> <td>27.94</td> <td>6.5        </td> <td>130                </td> <td>0       </td>\n",
       "        </tr>\n",
       "        <tr>\n",
       "            <td>Male  </td> <td>67  </td> <td>0           </td> <td>1            </td> <td>not current    </td> <td>27.32</td> <td>6.5        </td> <td>200                </td> <td>1       </td>\n",
       "        </tr>\n",
       "        <tr>\n",
       "            <td>Female</td> <td>77  </td> <td>1           </td> <td>1            </td> <td>never          </td> <td>32.02</td> <td>5          </td> <td>159                </td> <td>0       </td>\n",
       "        </tr>\n",
       "        <tr>\n",
       "            <td>Female</td> <td>59  </td> <td>0           </td> <td>1            </td> <td>ever           </td> <td>23.11</td> <td>6.5        </td> <td>200                </td> <td>0       </td>\n",
       "        </tr>\n",
       "        <tr>\n",
       "            <td>Male  </td> <td>68  </td> <td>1           </td> <td>1            </td> <td>current        </td> <td>27.32</td> <td>5          </td> <td>126                </td> <td>0       </td>\n",
       "        </tr>\n",
       "        <tr>\n",
       "            <td>Male  </td> <td>59  </td> <td>0           </td> <td>1            </td> <td>ever           </td> <td>30.85</td> <td>5          </td> <td>126                </td> <td>0       </td>\n",
       "        </tr>\n",
       "        <tr>\n",
       "            <td>Female</td> <td>80  </td> <td>0           </td> <td>1            </td> <td>never          </td> <td>29.59</td> <td>5.8        </td> <td>158                </td> <td>0       </td>\n",
       "        </tr>\n",
       "        <tr>\n",
       "            <td>Male  </td> <td>57  </td> <td>1           </td> <td>1            </td> <td>not current    </td> <td>27.77</td> <td>6.6        </td> <td>160                </td> <td>1       </td>\n",
       "        </tr>\n",
       "    </tbody>\n",
       "</table>\n",
       "<p>... (3932 rows omitted)</p>"
      ],
      "text/plain": [
       "gender | age  | hypertension | heart_disease | smoking_history | bmi   | HbA1c_level | blood_glucose_level | diabetes\n",
       "Female | 80   | 0            | 1             | never           | 25.19 | 6.6         | 140                 | 0\n",
       "Male   | 76   | 1            | 1             | current         | 20.14 | 4.8         | 155                 | 0\n",
       "Female | 72   | 0            | 1             | former          | 27.94 | 6.5         | 130                 | 0\n",
       "Male   | 67   | 0            | 1             | not current     | 27.32 | 6.5         | 200                 | 1\n",
       "Female | 77   | 1            | 1             | never           | 32.02 | 5           | 159                 | 0\n",
       "Female | 59   | 0            | 1             | ever            | 23.11 | 6.5         | 200                 | 0\n",
       "Male   | 68   | 1            | 1             | current         | 27.32 | 5           | 126                 | 0\n",
       "Male   | 59   | 0            | 1             | ever            | 30.85 | 5           | 126                 | 0\n",
       "Female | 80   | 0            | 1             | never           | 29.59 | 5.8         | 158                 | 0\n",
       "Male   | 57   | 1            | 1             | not current     | 27.77 | 6.6         | 160                 | 1\n",
       "... (3932 rows omitted)"
      ]
     },
     "execution_count": 20,
     "metadata": {},
     "output_type": "execute_result"
    }
   ],
   "source": [
    "diabetes_hd"
   ]
  },
  {
   "cell_type": "markdown",
   "metadata": {},
   "source": [
    "3942 people with heart disease in this study"
   ]
  },
  {
   "cell_type": "code",
   "execution_count": 21,
   "metadata": {
    "tags": []
   },
   "outputs": [
    {
     "data": {
      "text/html": [
       "<table border=\"1\" class=\"dataframe\">\n",
       "    <thead>\n",
       "        <tr>\n",
       "            <th>gender</th> <th>age</th> <th>hypertension</th> <th>heart_disease</th> <th>smoking_history</th> <th>bmi</th> <th>HbA1c_level</th> <th>blood_glucose_level</th> <th>diabetes</th>\n",
       "        </tr>\n",
       "    </thead>\n",
       "    <tbody>\n",
       "        <tr>\n",
       "            <td>Male  </td> <td>67  </td> <td>0           </td> <td>1            </td> <td>not current    </td> <td>27.32</td> <td>6.5        </td> <td>200                </td> <td>1       </td>\n",
       "        </tr>\n",
       "        <tr>\n",
       "            <td>Male  </td> <td>57  </td> <td>1           </td> <td>1            </td> <td>not current    </td> <td>27.77</td> <td>6.6        </td> <td>160                </td> <td>1       </td>\n",
       "        </tr>\n",
       "        <tr>\n",
       "            <td>Male  </td> <td>80  </td> <td>0           </td> <td>1            </td> <td>former         </td> <td>24.36</td> <td>7.5        </td> <td>280                </td> <td>1       </td>\n",
       "        </tr>\n",
       "        <tr>\n",
       "            <td>Male  </td> <td>75  </td> <td>0           </td> <td>1            </td> <td>not current    </td> <td>28.12</td> <td>7.5        </td> <td>160                </td> <td>1       </td>\n",
       "        </tr>\n",
       "        <tr>\n",
       "            <td>Male  </td> <td>69  </td> <td>0           </td> <td>1            </td> <td>former         </td> <td>24.1 </td> <td>6.8        </td> <td>126                </td> <td>1       </td>\n",
       "        </tr>\n",
       "        <tr>\n",
       "            <td>Female</td> <td>59  </td> <td>0           </td> <td>1            </td> <td>never          </td> <td>60.26</td> <td>8.8        </td> <td>145                </td> <td>1       </td>\n",
       "        </tr>\n",
       "        <tr>\n",
       "            <td>Male  </td> <td>80  </td> <td>0           </td> <td>1            </td> <td>former         </td> <td>32.95</td> <td>6          </td> <td>130                </td> <td>1       </td>\n",
       "        </tr>\n",
       "        <tr>\n",
       "            <td>Female</td> <td>62  </td> <td>1           </td> <td>1            </td> <td>former         </td> <td>44.23</td> <td>8.2        </td> <td>145                </td> <td>1       </td>\n",
       "        </tr>\n",
       "        <tr>\n",
       "            <td>Female</td> <td>62  </td> <td>1           </td> <td>1            </td> <td>never          </td> <td>43.16</td> <td>8.8        </td> <td>280                </td> <td>1       </td>\n",
       "        </tr>\n",
       "        <tr>\n",
       "            <td>Female</td> <td>76  </td> <td>0           </td> <td>1            </td> <td>former         </td> <td>25.68</td> <td>9          </td> <td>260                </td> <td>1       </td>\n",
       "        </tr>\n",
       "    </tbody>\n",
       "</table>\n",
       "<p>... (1257 rows omitted)</p>"
      ],
      "text/plain": [
       "gender | age  | hypertension | heart_disease | smoking_history | bmi   | HbA1c_level | blood_glucose_level | diabetes\n",
       "Male   | 67   | 0            | 1             | not current     | 27.32 | 6.5         | 200                 | 1\n",
       "Male   | 57   | 1            | 1             | not current     | 27.77 | 6.6         | 160                 | 1\n",
       "Male   | 80   | 0            | 1             | former          | 24.36 | 7.5         | 280                 | 1\n",
       "Male   | 75   | 0            | 1             | not current     | 28.12 | 7.5         | 160                 | 1\n",
       "Male   | 69   | 0            | 1             | former          | 24.1  | 6.8         | 126                 | 1\n",
       "Female | 59   | 0            | 1             | never           | 60.26 | 8.8         | 145                 | 1\n",
       "Male   | 80   | 0            | 1             | former          | 32.95 | 6           | 130                 | 1\n",
       "Female | 62   | 1            | 1             | former          | 44.23 | 8.2         | 145                 | 1\n",
       "Female | 62   | 1            | 1             | never           | 43.16 | 8.8         | 280                 | 1\n",
       "Female | 76   | 0            | 1             | former          | 25.68 | 9           | 260                 | 1\n",
       "... (1257 rows omitted)"
      ]
     },
     "execution_count": 21,
     "metadata": {},
     "output_type": "execute_result"
    }
   ],
   "source": [
    "diabetes_hd.where(\"diabetes\", are.equal_to(1))"
   ]
  },
  {
   "cell_type": "markdown",
   "metadata": {},
   "source": [
    "of 3942 people who do have heart disease, 1,267 have diabetes"
   ]
  },
  {
   "cell_type": "code",
   "execution_count": 22,
   "metadata": {
    "tags": []
   },
   "outputs": [
    {
     "data": {
      "text/html": [
       "<table border=\"1\" class=\"dataframe\">\n",
       "    <thead>\n",
       "        <tr>\n",
       "            <th>gender</th> <th>age</th> <th>hypertension</th> <th>heart_disease</th> <th>smoking_history</th> <th>bmi</th> <th>HbA1c_level</th> <th>blood_glucose_level</th> <th>diabetes</th>\n",
       "        </tr>\n",
       "    </thead>\n",
       "    <tbody>\n",
       "        <tr>\n",
       "            <td>Female</td> <td>80  </td> <td>0           </td> <td>1            </td> <td>never          </td> <td>25.19</td> <td>6.6        </td> <td>140                </td> <td>0       </td>\n",
       "        </tr>\n",
       "        <tr>\n",
       "            <td>Male  </td> <td>76  </td> <td>1           </td> <td>1            </td> <td>current        </td> <td>20.14</td> <td>4.8        </td> <td>155                </td> <td>0       </td>\n",
       "        </tr>\n",
       "        <tr>\n",
       "            <td>Female</td> <td>72  </td> <td>0           </td> <td>1            </td> <td>former         </td> <td>27.94</td> <td>6.5        </td> <td>130                </td> <td>0       </td>\n",
       "        </tr>\n",
       "        <tr>\n",
       "            <td>Female</td> <td>77  </td> <td>1           </td> <td>1            </td> <td>never          </td> <td>32.02</td> <td>5          </td> <td>159                </td> <td>0       </td>\n",
       "        </tr>\n",
       "        <tr>\n",
       "            <td>Female</td> <td>59  </td> <td>0           </td> <td>1            </td> <td>ever           </td> <td>23.11</td> <td>6.5        </td> <td>200                </td> <td>0       </td>\n",
       "        </tr>\n",
       "        <tr>\n",
       "            <td>Male  </td> <td>68  </td> <td>1           </td> <td>1            </td> <td>current        </td> <td>27.32</td> <td>5          </td> <td>126                </td> <td>0       </td>\n",
       "        </tr>\n",
       "        <tr>\n",
       "            <td>Male  </td> <td>59  </td> <td>0           </td> <td>1            </td> <td>ever           </td> <td>30.85</td> <td>5          </td> <td>126                </td> <td>0       </td>\n",
       "        </tr>\n",
       "        <tr>\n",
       "            <td>Female</td> <td>80  </td> <td>0           </td> <td>1            </td> <td>never          </td> <td>29.59</td> <td>5.8        </td> <td>158                </td> <td>0       </td>\n",
       "        </tr>\n",
       "        <tr>\n",
       "            <td>Female</td> <td>80  </td> <td>0           </td> <td>1            </td> <td>former         </td> <td>21.3 </td> <td>5          </td> <td>159                </td> <td>0       </td>\n",
       "        </tr>\n",
       "        <tr>\n",
       "            <td>Male  </td> <td>80  </td> <td>0           </td> <td>1            </td> <td>No Info        </td> <td>32.37</td> <td>6.6        </td> <td>80                 </td> <td>0       </td>\n",
       "        </tr>\n",
       "    </tbody>\n",
       "</table>\n",
       "<p>... (2665 rows omitted)</p>"
      ],
      "text/plain": [
       "gender | age  | hypertension | heart_disease | smoking_history | bmi   | HbA1c_level | blood_glucose_level | diabetes\n",
       "Female | 80   | 0            | 1             | never           | 25.19 | 6.6         | 140                 | 0\n",
       "Male   | 76   | 1            | 1             | current         | 20.14 | 4.8         | 155                 | 0\n",
       "Female | 72   | 0            | 1             | former          | 27.94 | 6.5         | 130                 | 0\n",
       "Female | 77   | 1            | 1             | never           | 32.02 | 5           | 159                 | 0\n",
       "Female | 59   | 0            | 1             | ever            | 23.11 | 6.5         | 200                 | 0\n",
       "Male   | 68   | 1            | 1             | current         | 27.32 | 5           | 126                 | 0\n",
       "Male   | 59   | 0            | 1             | ever            | 30.85 | 5           | 126                 | 0\n",
       "Female | 80   | 0            | 1             | never           | 29.59 | 5.8         | 158                 | 0\n",
       "Female | 80   | 0            | 1             | former          | 21.3  | 5           | 159                 | 0\n",
       "Male   | 80   | 0            | 1             | No Info         | 32.37 | 6.6         | 80                  | 0\n",
       "... (2665 rows omitted)"
      ]
     },
     "execution_count": 22,
     "metadata": {},
     "output_type": "execute_result"
    }
   ],
   "source": [
    "diabetes_hd.where(\"diabetes\", are.equal_to(0))"
   ]
  },
  {
   "cell_type": "markdown",
   "metadata": {},
   "source": [
    "of 3,942 people who have heart disease, 2,675 do not have diabetes"
   ]
  },
  {
   "cell_type": "markdown",
   "metadata": {},
   "source": [
    "67.86% of people who have heart disease do not have diabetes, and 32.14% of people who have heart disease do have diabetes"
   ]
  },
  {
   "cell_type": "markdown",
   "metadata": {
    "tags": []
   },
   "source": [
    "heart disease positive = 32.14% chance to have diabetes"
   ]
  },
  {
   "cell_type": "markdown",
   "metadata": {},
   "source": [
    "heart disease negative = 7.53% chance to have diabetes"
   ]
  },
  {
   "cell_type": "code",
   "execution_count": 23,
   "metadata": {},
   "outputs": [
    {
     "data": {
      "text/html": [
       "<table border=\"1\" class=\"dataframe\">\n",
       "    <thead>\n",
       "        <tr>\n",
       "            <th>gender</th> <th>age</th> <th>hypertension</th> <th>heart_disease</th> <th>smoking_history</th> <th>bmi</th> <th>HbA1c_level</th> <th>blood_glucose_level</th> <th>diabetes</th>\n",
       "        </tr>\n",
       "    </thead>\n",
       "    <tbody>\n",
       "        <tr>\n",
       "            <td>Female</td> <td>44  </td> <td>0           </td> <td>0            </td> <td>never          </td> <td>19.31</td> <td>6.5        </td> <td>200                </td> <td>1       </td>\n",
       "        </tr>\n",
       "        <tr>\n",
       "            <td>Male  </td> <td>50  </td> <td>1           </td> <td>0            </td> <td>current        </td> <td>27.32</td> <td>5.7        </td> <td>260                </td> <td>1       </td>\n",
       "        </tr>\n",
       "        <tr>\n",
       "            <td>Male  </td> <td>73  </td> <td>0           </td> <td>0            </td> <td>former         </td> <td>25.91</td> <td>9          </td> <td>160                </td> <td>1       </td>\n",
       "        </tr>\n",
       "        <tr>\n",
       "            <td>Female</td> <td>53  </td> <td>0           </td> <td>0            </td> <td>former         </td> <td>27.32</td> <td>7          </td> <td>159                </td> <td>1       </td>\n",
       "        </tr>\n",
       "        <tr>\n",
       "            <td>Male  </td> <td>50  </td> <td>0           </td> <td>0            </td> <td>former         </td> <td>37.16</td> <td>9          </td> <td>159                </td> <td>1       </td>\n",
       "        </tr>\n",
       "        <tr>\n",
       "            <td>Female</td> <td>67  </td> <td>0           </td> <td>0            </td> <td>never          </td> <td>63.48</td> <td>8.8        </td> <td>155                </td> <td>1       </td>\n",
       "        </tr>\n",
       "        <tr>\n",
       "            <td>Male  </td> <td>57  </td> <td>0           </td> <td>0            </td> <td>No Info        </td> <td>27.32</td> <td>8.2        </td> <td>126                </td> <td>1       </td>\n",
       "        </tr>\n",
       "        <tr>\n",
       "            <td>Female</td> <td>36  </td> <td>0           </td> <td>0            </td> <td>current        </td> <td>32.27</td> <td>6.2        </td> <td>220                </td> <td>1       </td>\n",
       "        </tr>\n",
       "        <tr>\n",
       "            <td>Female</td> <td>60  </td> <td>0           </td> <td>0            </td> <td>never          </td> <td>27.32</td> <td>7.5        </td> <td>300                </td> <td>1       </td>\n",
       "        </tr>\n",
       "        <tr>\n",
       "            <td>Female</td> <td>67  </td> <td>0           </td> <td>0            </td> <td>never          </td> <td>27.32</td> <td>6.2        </td> <td>159                </td> <td>1       </td>\n",
       "        </tr>\n",
       "    </tbody>\n",
       "</table>\n",
       "<p>... (7223 rows omitted)</p>"
      ],
      "text/plain": [
       "gender | age  | hypertension | heart_disease | smoking_history | bmi   | HbA1c_level | blood_glucose_level | diabetes\n",
       "Female | 44   | 0            | 0             | never           | 19.31 | 6.5         | 200                 | 1\n",
       "Male   | 50   | 1            | 0             | current         | 27.32 | 5.7         | 260                 | 1\n",
       "Male   | 73   | 0            | 0             | former          | 25.91 | 9           | 160                 | 1\n",
       "Female | 53   | 0            | 0             | former          | 27.32 | 7           | 159                 | 1\n",
       "Male   | 50   | 0            | 0             | former          | 37.16 | 9           | 159                 | 1\n",
       "Female | 67   | 0            | 0             | never           | 63.48 | 8.8         | 155                 | 1\n",
       "Male   | 57   | 0            | 0             | No Info         | 27.32 | 8.2         | 126                 | 1\n",
       "Female | 36   | 0            | 0             | current         | 32.27 | 6.2         | 220                 | 1\n",
       "Female | 60   | 0            | 0             | never           | 27.32 | 7.5         | 300                 | 1\n",
       "Female | 67   | 0            | 0             | never           | 27.32 | 6.2         | 159                 | 1\n",
       "... (7223 rows omitted)"
      ]
     },
     "execution_count": 23,
     "metadata": {},
     "output_type": "execute_result"
    }
   ],
   "source": [
    "diabetes_pos_hd_neg = diabetes_hd_neg.where(\"diabetes\", are.equal_to(1))\n",
    "diabetes_pos_hd_neg"
   ]
  },
  {
   "cell_type": "code",
   "execution_count": 24,
   "metadata": {
    "tags": []
   },
   "outputs": [
    {
     "data": {
      "text/plain": [
       "(array([ 88825.,   7233.]),\n",
       " array([ 0. ,  0.5,  1. ]),\n",
       " <BarContainer object of 2 artists>)"
      ]
     },
     "execution_count": 24,
     "metadata": {},
     "output_type": "execute_result"
    },
    {
     "data": {
      "image/png": "[encoded data removed]",
      "text/plain": [
       "<Figure size 640x480 with 1 Axes>"
      ]
     },
     "metadata": {},
     "output_type": "display_data"
    }
   ],
   "source": [
    "x = (diabetes_hd_neg.column(8))\n",
    "plt.title(\"Heart Disease Negative\")\n",
    "plt.xlabel(\"Diabetes\")\n",
    "plt.ylabel(\"Number of Patients\")\n",
    "no_heart_disease_comp = plt.hist(x, bins=2)\n",
    "no_heart_disease_comp"
   ]
  },
  {
   "cell_type": "code",
   "execution_count": 42,
   "metadata": {
    "tags": []
   },
   "outputs": [
    {
     "data": {
      "text/plain": [
       "(array([ 2675.,  1267.]),\n",
       " array([ 0. ,  0.5,  1. ]),\n",
       " <BarContainer object of 2 artists>)"
      ]
     },
     "execution_count": 42,
     "metadata": {},
     "output_type": "execute_result"
    },
    {
     "data": {
      "image/png": "[encoded data removed]",
      "text/plain": [
       "<Figure size 640x480 with 1 Axes>"
      ]
     },
     "metadata": {},
     "output_type": "display_data"
    }
   ],
   "source": [
    "y = diabetes_hd.column(8)\n",
    "plt.title(\"Heart Disease Positive\")\n",
    "plt.xlabel(\"Diabetes\")\n",
    "plt.ylabel(\"Number of Patients\")\n",
    "heart_disease_comp=plt.hist(y, bins=2)\n",
    "heart_disease_comp\n"
   ]
  },
  {
   "cell_type": "code",
   "execution_count": 36,
   "metadata": {
    "tags": []
   },
   "outputs": [],
   "source": [
    "diabetes_pos_hd_pos = diabetes_hd.where(\"diabetes\", are.equal_to(1))"
   ]
  },
  {
   "cell_type": "code",
   "execution_count": null,
   "metadata": {},
   "outputs": [],
   "source": [
    "diabetes_pos_hd_pos"
   ]
  },
  {
   "cell_type": "code",
   "execution_count": 53,
   "metadata": {
    "tags": []
   },
   "outputs": [],
   "source": [
    "b=diabetes_pos_hd_pos"
   ]
  },
  {
   "cell_type": "code",
   "execution_count": 67,
   "metadata": {
    "tags": []
   },
   "outputs": [
    {
     "data": {
      "text/plain": [
       "numpy.ndarray"
      ]
     },
     "execution_count": 67,
     "metadata": {},
     "output_type": "execute_result"
    }
   ],
   "source": [
    "b=diabetes_pos_hd_pos.column(8).astype(int)\n",
    "type(b)"
   ]
  },
  {
   "cell_type": "code",
   "execution_count": 83,
   "metadata": {
    "tags": []
   },
   "outputs": [],
   "source": [
    "df=pd.read_csv('data/diabetes_prediction_dataset.csv')\n",
    "df\n",
    "\n"
   ]
  },
  {
   "cell_type": "code",
   "execution_count": 90,
   "metadata": {
    "tags": []
   },
   "outputs": [
    {
     "data": {
      "text/plain": [
       "<function matplotlib.pyplot.show(close=None, block=None)>"
      ]
     },
     "execution_count": 90,
     "metadata": {},
     "output_type": "execute_result"
    },
    {
     "data": {
      "image/png": "[encoded data removed]",
      "text/plain": [
       "<Figure size 600x600 with 1 Axes>"
      ]
     },
     "metadata": {},
     "output_type": "display_data"
    }
   ],
   "source": [
    "sizes = [1267, 2675]\n",
    "labels = [\"Diabetes Positive\", \"Diabetes Negative\"]\n",
    "plt.figure(figsize=(6,6))\n",
    "explode = [0.1, 0]\n",
    "plt.pie(sizes, labels=labels, explode=explode, startangle=140)\n",
    "plt.title(\"Heart Disease Positive\")\n",
    "plt.show"
   ]
  },
  {
   "cell_type": "code",
   "execution_count": 96,
   "metadata": {
    "tags": []
   },
   "outputs": [
    {
     "data": {
      "text/plain": [
       "<function matplotlib.pyplot.show(close=None, block=None)>"
      ]
     },
     "execution_count": 96,
     "metadata": {},
     "output_type": "execute_result"
    },
    {
     "data": {
      "image/png": "[encoded data removed]",
      "text/plain": [
       "<Figure size 600x600 with 1 Axes>"
      ]
     },
     "metadata": {},
     "output_type": "display_data"
    }
   ],
   "source": [
    "sizes = [7233, 88825]\n",
    "labels = [\"Diabetes Positive\", \"Diabetes Negative\"]\n",
    "plt.figure(figsize=(6,6))\n",
    "explode = [0.1, 0]\n",
    "plt.pie(sizes, labels=labels, explode=explode, startangle=140)\n",
    "plt.title(\"Heart Disease Negative\")\n",
    "plt.show"
   ]
  },
  {
   "cell_type": "code",
   "execution_count": null,
   "metadata": {},
   "outputs": [],
   "source": []
  }
 ],
 "metadata": {
  "kernelspec": {
   "display_name": "Python 3 (ipykernel)",
   "language": "python",
   "name": "python3"
  },
  "language_info": {
   "codemirror_mode": {
    "name": "ipython",
    "version": 3
   },
   "file_extension": ".py",
   "mimetype": "text/x-python",
   "name": "python",
   "nbconvert_exporter": "python",
   "pygments_lexer": "ipython3",
   "version": "3.10.11"
  }
 },
 "nbformat": 4,
 "nbformat_minor": 4
}
